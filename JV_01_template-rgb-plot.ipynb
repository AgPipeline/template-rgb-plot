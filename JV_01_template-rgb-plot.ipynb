{
 "cells": [
  {
   "cell_type": "code",
   "execution_count": 1,
   "metadata": {},
   "outputs": [
    {
     "data": {
      "application/javascript": [
       "IPython.notebook.set_autosave_interval(5000)"
      ]
     },
     "metadata": {},
     "output_type": "display_data"
    },
    {
     "name": "stdout",
     "output_type": "stream",
     "text": [
      "Autosaving every 5 seconds\n"
     ]
    }
   ],
   "source": [
    "%autosave 5"
   ]
  },
  {
   "cell_type": "markdown",
   "metadata": {},
   "source": [
    "# Template RGB Plot"
   ]
  },
  {
   "cell_type": "markdown",
   "metadata": {},
   "source": [
    "## Authors\n",
    "\n",
    "* Author1 = {\"name\": \"Chris Schnaufer\", \"affiliation\": \"Cyverse/University of Arizona Data Scientist\", \"email\": \"schnaufer@arizona.edu\", \"orcid\": \"0000-0002-6150-4558\"}\n",
    "* Author2 = {\"name\": \"Jacob van der Leeuw\", \"affiliation\": \"Cyverse Intern\", \"email\": \"jvanderleeuw@email.arizona.edu\", \"orcid\": \"0000-0003-0892-9837\"}\n",
    "\n",
    "\n",
    "## Purpose\n",
    "\n",
    "This is an rgb image-based template that can be used to test plot-level algorithms in Python.\n",
    "\n",
    "## Technical contributions\n",
    "\n",
    "* Development of a template for creating  and testing rgb image algorithms\n",
    "* Creation of a testing.py file to ensure that the variables are set up correctly and to run rgb image-processing functions\n",
    "* Usage of the [gdal](https://gdal.org) library to open rgb images and process data\n",
    "\n",
    "\n",
    "## Methodology\n",
    "\n",
    "It is assumed that:\n",
    "\n",
    "* an image folder is located in the same directory as this jupyter notebook with sample plot images to process. Sample plot images can be [downloaded from CyVerse](https://de.cyverse.org/dl/d/4108BB75-AAA3-48E1-BBD4-E10B06CADF54/sample_plot_images.zip). \n",
    "\n",
    "* If you will be building and running a Docker image, you have [Docker](https://www.docker.com) installed on your computer\n",
    "\n",
    "* You are familiar with Github template repositories, or know how to use [git](https://git-scm.com)\n",
    "\n",
    "\n",
    "After cloning the [template-rgb-plot](https://github.com/AgPipeline/template-rgb-plot) repository, this notebook expects that a user will first develop and test their algorithm in python and then generate and run a Docker image based off of the algorithm\n",
    "\n",
    "\n",
    "## Results\n",
    "\n",
    "This template enables a user to develop their own rgb image-processing algorithms in a structured way, validate their setup with a testing.py script, and then test their developed algorithm both locally and via docker. \n",
    "\n",
    "\n",
    "## Funding\n",
    "\n",
    "* Award1 = {\"agency\": \"USDA National Institute of Food and Agriculture, Hatch General Administration of Federal-Grant Fund Research 30152\", \"award_code\":\"30152\"}\n",
    "\n",
    "\n",
    "## Keywords\n",
    "\n",
    "keywords=[\"plot-level\", \"rgb\", \"docker\"]\n",
    "\n",
    "\n",
    "## Citation\n",
    "\n",
    "\n",
    "## Acknowledgements\n",
    "\n",
    "This project is funded by [CyVerse](https://cyverse.org) and in turn the National Science Foundation Grant Nos. DBI-0735191, DBI-1265383, and DBI-1743442\n",
    "\n",
    "template-rgb-plot is licensed under a [BSD 3-Clause License](https://opensource.org/licenses/BSD-3-Clause)"
   ]
  },
  {
   "cell_type": "markdown",
   "metadata": {},
   "source": [
    "# Setup"
   ]
  },
  {
   "cell_type": "markdown",
   "metadata": {},
   "source": [
    "## Library imports"
   ]
  },
  {
   "cell_type": "code",
   "execution_count": 3,
   "metadata": {},
   "outputs": [],
   "source": [
    "# Handling directories and file paths\n",
    "import os\n",
    "from pathlib import Path\n",
    "\n",
    "# Downloading and opening images from a url\n",
    "import shutil\n",
    "import urllib.request as urllib\n",
    "import zipfile\n",
    "\n",
    "# Designing the calculate() function\n",
    "import numpy as np\n",
    "\n",
    "# Writing the algorithm_rgb.py file\n",
    "import re\n",
    "import textwrap\n",
    "\n",
    "# Opens the downloaded images for processing\n",
    "from PIL import Image\n",
    "\n",
    "from importlib import reload\n",
    "\n",
    "# Reading .json and .csv output files\n",
    "import json\n",
    "import pandas as pd\n",
    "\n",
    "# Creating output folder to save results from a run\n",
    "from datetime import datetime"
   ]
  },
  {
   "cell_type": "markdown",
   "metadata": {},
   "source": [
    "## Top-level Docstring. Change this to an appropriate  docstring for your algorithm"
   ]
  },
  {
   "cell_type": "raw",
   "metadata": {},
   "source": [
    "\"\"\"My nifty plot-level RGB algorithm\n",
    "\"\"\""
   ]
  },
  {
   "cell_type": "markdown",
   "metadata": {},
   "source": [
    "#### Imports into the python file for running the algorithm. Please add any additional import statements that will be needed for your algorithm in the block below:"
   ]
  },
  {
   "cell_type": "raw",
   "metadata": {},
   "source": [
    "import numpy as np"
   ]
  },
  {
   "cell_type": "markdown",
   "metadata": {},
   "source": [
    "## Parameter definitions"
   ]
  },
  {
   "cell_type": "markdown",
   "metadata": {},
   "source": [
    "#### Define the version number of your algorithm. Consider using [Semantic Versioning](https://semver.org/)"
   ]
  },
  {
   "cell_type": "raw",
   "metadata": {},
   "source": [
    "VERSION = '1.0'"
   ]
  },
  {
   "cell_type": "markdown",
   "metadata": {},
   "source": [
    "#### Provide information on the creator and contributors of this algorithm"
   ]
  },
  {
   "cell_type": "raw",
   "metadata": {},
   "source": [
    "ALGORITHM_AUTHOR = 'author'\n",
    "ALGORITHM_AUTHOR_EMAIL = 'author@example.com'\n",
    "ALGORITHM_CONTRIBUTORS = [\"\"]"
   ]
  },
  {
   "cell_type": "markdown",
   "metadata": {},
   "source": [
    "#### Name and describe your algorithm"
   ]
  },
  {
   "cell_type": "raw",
   "metadata": {},
   "source": [
    "ALGORITHM_NAME = 'algorithm'\n",
    "ALGORITHM_DESCRIPTION = 'add description here'"
   ]
  },
  {
   "cell_type": "markdown",
   "metadata": {},
   "source": [
    "#### Provide citation information for algorithm publication. This includes the citation author, the citation title, and the citation year"
   ]
  },
  {
   "cell_type": "raw",
   "metadata": {},
   "source": [
    "CITATION_AUTHOR = 'add citation author'\n",
    "CITATION_TITLE = 'add citation title'\n",
    "CITATION_YEAR = '2021'"
   ]
  },
  {
   "cell_type": "markdown",
   "metadata": {},
   "source": [
    "#### Include the name(s) of the variable(s) used in the algorithm, separated by commas. Note that variable names cannot have comma's in them: use a different separator instead. Also, all white space is kept intact; don't add any extra whitespace since it may cause name comparisons to fail"
   ]
  },
  {
   "cell_type": "raw",
   "metadata": {},
   "source": [
    "VARIABLE_NAMES = 'size of image channels'"
   ]
  },
  {
   "cell_type": "markdown",
   "metadata": {},
   "source": [
    "#### Include the units and labels of the variables, matching the order of VARIABLE_NAMES, also separated by commas. VARIABLE_LABELS is an optional field and can be left empty."
   ]
  },
  {
   "cell_type": "raw",
   "metadata": {},
   "source": [
    "VARIABLE_UNITS = 'pixels'\n",
    "VARIABLE_LABELS = ''"
   ]
  },
  {
   "cell_type": "markdown",
   "metadata": {},
   "source": [
    "#### Optional override for the generation of a BETYdb compatible csv file. Set to False to suppress the creation of a compatible file"
   ]
  },
  {
   "cell_type": "raw",
   "metadata": {},
   "source": [
    "WRITE_BETYDB_CSV = True"
   ]
  },
  {
   "cell_type": "markdown",
   "metadata": {},
   "source": [
    "#### Optional override for the generation of a TERRA REF Geostreams compatible csv file. Set the variable to False to suppress the creation of a compatible file"
   ]
  },
  {
   "cell_type": "raw",
   "metadata": {},
   "source": [
    "WRITE_GEOSTREAMS_CSV = True"
   ]
  },
  {
   "cell_type": "markdown",
   "metadata": {},
   "source": [
    "## Data import"
   ]
  },
  {
   "cell_type": "markdown",
   "metadata": {},
   "source": [
    "### Currently the code is set up to reference a predefined set of [sample plot images](https://de.cyverse.org/dl/d/4108BB75-AAA3-48E1-BBD4-E10B06CADF54/sample_plot_images.zip) available from CyVerse. Download other image files in order to run the algorithm on them"
   ]
  },
  {
   "cell_type": "markdown",
   "metadata": {},
   "source": [
    "# Data Processing\n",
    "\n",
    "#### In this section you are able to define a calculate() function in order to generate values based off of the rgb images. Below there is code to take this and generate a python file that will include the parameters along with this calculate function."
   ]
  },
  {
   "cell_type": "markdown",
   "metadata": {},
   "source": [
    "### Define your calculate() function. This should be able to manipulate RGB image data\n",
    "\n",
    "#### This is provided as an example; you can try alternative functions by replacing the algorithm below."
   ]
  },
  {
   "cell_type": "raw",
   "metadata": {},
   "source": [
    "def calculate(pxarray: np.ndarray):\n",
    "    \"\"\"Calculates one or more values from plot-level RGB data\n",
    "    Arguments:\n",
    "        pxarray: Array of RGB data for a single plot\n",
    "    Return:\n",
    "        Returns one or more calculated values\n",
    "    \"\"\"\n",
    "    # ALGORITHM: replace the following lines with your algorithm\n",
    "    channel_size = pxarray[:, :, 1].size*5\n",
    "    # RETURN: replace the following return with your calculated values.\n",
    "    # Be sure to order them as defined in VARIABLE_NAMES above\n",
    "    return 700"
   ]
  },
  {
   "cell_type": "markdown",
   "metadata": {},
   "source": [
    "## Generate algorithm_rgb.py\n",
    "\n",
    "#### This will be the file that contains the earlier parameters from the \"Parameter_definitions\" section as well as the calculate() function from the cell above"
   ]
  },
  {
   "cell_type": "code",
   "execution_count": 4,
   "metadata": {},
   "outputs": [],
   "source": [
    "def write_algorithm_rgb_file():\n",
    "    cells = json.load(open(Path.cwd() / \"JV_01_template-rgb-plot.ipynb\"))[\"cells\"]\n",
    "    with open(\"algorithm_rgb.py\", \"w\") as outfile:\n",
    "        for key in cells:\n",
    "            toWrite = \"\"\n",
    "            if key[\"cell_type\"] == \"markdown\":\n",
    "                for entry in key[\"source\"]:\n",
    "                    if entry[0:4] == \"####\":\n",
    "                        entry = re.sub('####', '', entry).lstrip()\n",
    "                        toWrite = toWrite + entry\n",
    "                        toWrite = format_string(toWrite)\n",
    "                        outfile.write(\"\\n\\n\" + str(toWrite) + \"\\n\")\n",
    "            elif key[\"cell_type\"] == \"raw\":\n",
    "                for entry in key[\"source\"]:\n",
    "                    toWrite = toWrite + entry\n",
    "                outfile.write(str(toWrite))\n",
    "        outfile.write(\"\\n\")\n",
    "                \n",
    "def format_string(toWrite):\n",
    "    returnStr = \"\"\n",
    "    lines = textwrap.wrap(toWrite, width=115, break_long_words=False)\n",
    "    for line in range(len(lines)):\n",
    "        if line != len(lines)-1:\n",
    "            returnStr = returnStr + \"# \" + lines[line] + \"\\n\"\n",
    "        else: \n",
    "            returnStr = returnStr + \"# \" + lines[line]\n",
    "    return returnStr\n",
    "\n",
    "write_algorithm_rgb_file()"
   ]
  },
  {
   "cell_type": "markdown",
   "metadata": {},
   "source": [
    "## Test the calculate() function on the sample plot images located in the sample_plot_images folder"
   ]
  },
  {
   "cell_type": "code",
   "execution_count": 5,
   "metadata": {},
   "outputs": [
    {
     "name": "stdout",
     "output_type": "stream",
     "text": [
      "700\n",
      "700\n",
      "700\n",
      "700\n",
      "700\n",
      "700\n"
     ]
    }
   ],
   "source": [
    "import algorithm_rgb\n",
    "reload(algorithm_rgb)\n",
    "\n",
    "for filename in os.listdir(\"sample_plot_images\"):\n",
    "    img = Image.open(Path.cwd() / \"sample_plot_images\" / filename)\n",
    "    img_arr = np.array(img)\n",
    "    print(algorithm_rgb.calculate(img_arr))\n"
   ]
  },
  {
   "cell_type": "markdown",
   "metadata": {},
   "source": [
    "# (OPTIONAL) The following steps are for generating and running a docker image based off of your algorithm. This will not work via a myBinder link. You should run the following in an environment with docker installed"
   ]
  },
  {
   "cell_type": "markdown",
   "metadata": {},
   "source": [
    "## Next Generate your Dockerfile by running the generate.py script"
   ]
  },
  {
   "cell_type": "code",
   "execution_count": 6,
   "metadata": {},
   "outputs": [
    {
     "data": {
      "text/plain": [
       "256"
      ]
     },
     "execution_count": 6,
     "metadata": {},
     "output_type": "execute_result"
    }
   ],
   "source": [
    "cmd0 = \"python generate.py\"\n",
    "os.system(cmd0)"
   ]
  },
  {
   "cell_type": "markdown",
   "metadata": {},
   "source": [
    "## If there are leftover files from previous runs, delete them"
   ]
  },
  {
   "cell_type": "code",
   "execution_count": 7,
   "metadata": {},
   "outputs": [],
   "source": [
    "filelist = [\"result.json\", \"rgb_plot.csv\", \"rgb_plot_betydb.csv\", \"rgb_plot_geo.csv\"]\n",
    "for file in filelist:\n",
    "    if os.path.isfile(file):\n",
    "        os.remove(file)"
   ]
  },
  {
   "cell_type": "markdown",
   "metadata": {},
   "source": [
    "## Now build the dockerfile (Currently this will have a default project name and project version)"
   ]
  },
  {
   "cell_type": "code",
   "execution_count": 8,
   "metadata": {},
   "outputs": [
    {
     "data": {
      "text/plain": [
       "256"
      ]
     },
     "execution_count": 8,
     "metadata": {},
     "output_type": "execute_result"
    }
   ],
   "source": [
    "cmd = \"docker build -t \" + algorithm_rgb.ALGORITHM_NAME + \":\" + algorithm_rgb.VERSION + \" .\"\n",
    "os.system(cmd)"
   ]
  },
  {
   "cell_type": "markdown",
   "metadata": {},
   "source": [
    "## Next run the dockerfile for testing"
   ]
  },
  {
   "cell_type": "code",
   "execution_count": 9,
   "metadata": {},
   "outputs": [
    {
     "data": {
      "text/plain": [
       "0"
      ]
     },
     "execution_count": 9,
     "metadata": {},
     "output_type": "execute_result"
    }
   ],
   "source": [
    "cmd = 'docker run --rm --mount \"src=`pwd`,target=/mnt,type=bind\" ' + algorithm_rgb.ALGORITHM_NAME + \":\" + algorithm_rgb.VERSION + ' --working_space \"/mnt\"'\n",
    "for filename in os.listdir(\"sample_plot_images\"):\n",
    "    cmd += ' \"/mnt/sample_plot_images/' + filename + '\"'\n",
    "os.system(cmd)"
   ]
  },
  {
   "cell_type": "markdown",
   "metadata": {},
   "source": [
    "## Make sure that the correct files are generated and contain appropriate results"
   ]
  },
  {
   "cell_type": "code",
   "execution_count": 10,
   "metadata": {},
   "outputs": [],
   "source": [
    "filelist = [\"result.json\", \"rgb_plot.csv\", \"rgb_plot_betydb.csv\", \"rgb_plot_geo.csv\"]\n",
    "saveDir = \"outputs_\" + str(datetime.now()).replace(\" \", \"\").replace(\":\", \".\")\n",
    "Path.mkdir(Path.cwd() / saveDir)\n",
    "saveDir = Path.cwd() / saveDir\n",
    "\n",
    "for filename in filelist:\n",
    "    assert os.path.isfile(filename)\n",
    "    if (file == \"result.json\"):\n",
    "        result = json.load(open(file))[algorithm_rgb.ALGORITHM_NAME]\n",
    "        assert result['version'] == algorithm_rgb.VERSION\n",
    "        assert result['traits'] == algorithm_rgb.VARIABLE_NAMES\n",
    "        assert result['units'] == algorithm_rgb.VARIABLE_UNITS\n",
    "        assert result['labels'] == algorithm_rgb.VARIABLE_LABELS\n",
    "        assert result['files_processed'] == str(len(os.listdir(\"sample_plot_images\")))\n",
    "        assert result['lines_written'] == str(len(os.listdir(\"sample_plot_images\")))\n",
    "        if (algorithm_rgb.WRITE_GEOSTREAMS_CSV == True):\n",
    "            assert result['wrote_geostreams'] == \"Yes\"\n",
    "        else:\n",
    "            assert result['wrote_geostreams'] == \"No\"\n",
    "        if (algorithm_rgb.WRITE_BETYDB_CSV == True):\n",
    "            assert result['wrote_betydb'] == \"Yes\"\n",
    "        else: \n",
    "            assert result['wrote_betydb'] == \"No\"\n",
    "    os.system(\"mv \" + filename + \" \" + str(saveDir / Path(filename).name))"
   ]
  },
  {
   "cell_type": "markdown",
   "metadata": {},
   "source": [
    "## View the output files. They will be displayed in the following order: \n",
    "## 1.) result.json\n",
    "## 2.) rgb_plot.csv\n",
    "## 3.) rgb_plot_betydb.csv\n",
    "## 4.) rgb_plot_geo.csv"
   ]
  },
  {
   "cell_type": "code",
   "execution_count": 11,
   "metadata": {},
   "outputs": [
    {
     "name": "stdout",
     "output_type": "stream",
     "text": [
      "{'code': 0, 'file': [{'path': '/mnt/rgb_plot.csv', 'key': 'csv'}, {'path': '/mnt/rgb_plot_geo.csv', 'key': 'csv'}, {'path': '/mnt/rgb_plot_betydb.csv', 'key': 'csv'}], 'algorithm': {'version': '1.0', 'traits': 'size of image channels', 'units': 'pixels', 'labels': '', 'files_processed': '6', 'lines_written': '6', 'wrote_geostreams': 'Yes', 'wrote_betydb': 'Yes'}}\n"
     ]
    }
   ],
   "source": [
    "print(json.load(open((saveDir / \"result.json\"))))"
   ]
  },
  {
   "cell_type": "code",
   "execution_count": 12,
   "metadata": {},
   "outputs": [
    {
     "name": "stdout",
     "output_type": "stream",
     "text": [
      "   species                site   timestamp        lat         lon  \\\n",
      "0  Unknown  sample_plot_images  2021-05-15  33.075194 -111.974953   \n",
      "1  Unknown  sample_plot_images  2021-05-15  33.075949 -111.974888   \n",
      "2  Unknown  sample_plot_images  2021-05-15  33.074727 -111.975043   \n",
      "3  Unknown  sample_plot_images  2021-05-15  33.074547 -111.975027   \n",
      "4  Unknown  sample_plot_images  2021-05-15  33.075697 -111.974937   \n",
      "5  Unknown  sample_plot_images  2021-05-15  33.074691 -111.974888   \n",
      "\n",
      "       citation_author  citation_year      citation_title  \\\n",
      "0  add citation author           2020  add citation title   \n",
      "1  add citation author           2020  add citation title   \n",
      "2  add citation author           2020  add citation title   \n",
      "3  add citation author           2020  add citation title   \n",
      "4  add citation author           2020  add citation title   \n",
      "5  add citation author           2020  add citation title   \n",
      "\n",
      "   size of image channels (pixels)  \n",
      "0                          35000.0  \n",
      "1                          35000.0  \n",
      "2                          35000.0  \n",
      "3                          35000.0  \n",
      "4                          35000.0  \n",
      "5                          35000.0  \n"
     ]
    }
   ],
   "source": [
    "rgb_plot = pd.read_csv((saveDir / \"rgb_plot.csv\"))\n",
    "print(rgb_plot)"
   ]
  },
  {
   "cell_type": "code",
   "execution_count": 13,
   "metadata": {},
   "outputs": [
    {
     "name": "stdout",
     "output_type": "stream",
     "text": [
      "        local_datetime  access_level  species                site  \\\n",
      "0  2021-05-15T00:06:28             2  Unknown  sample_plot_images   \n",
      "1  2021-05-15T00:06:28             2  Unknown  sample_plot_images   \n",
      "2  2021-05-15T00:06:28             2  Unknown  sample_plot_images   \n",
      "3  2021-05-15T00:06:28             2  Unknown  sample_plot_images   \n",
      "4  2021-05-15T00:06:28             2  Unknown  sample_plot_images   \n",
      "5  2021-05-15T00:06:28             2  Unknown  sample_plot_images   \n",
      "\n",
      "       citation_author  citation_year      citation_title   method  \\\n",
      "0  add citation author           2020  add citation title  Unknown   \n",
      "1  add citation author           2020  add citation title  Unknown   \n",
      "2  add citation author           2020  add citation title  Unknown   \n",
      "3  add citation author           2020  add citation title  Unknown   \n",
      "4  add citation author           2020  add citation title  Unknown   \n",
      "5  add citation author           2020  add citation title  Unknown   \n",
      "\n",
      "   size of image channels  \n",
      "0                 35000.0  \n",
      "1                 35000.0  \n",
      "2                 35000.0  \n",
      "3                 35000.0  \n",
      "4                 35000.0  \n",
      "5                 35000.0  \n"
     ]
    }
   ],
   "source": [
    "rgb_plot_betydb = pd.read_csv((saveDir / \"rgb_plot_betydb.csv\"))\n",
    "print(rgb_plot_betydb)"
   ]
  },
  {
   "cell_type": "code",
   "execution_count": 14,
   "metadata": {},
   "outputs": [
    {
     "name": "stdout",
     "output_type": "stream",
     "text": [
      "                 site                   trait        lat         lon  \\\n",
      "0  sample_plot_images  size of image channels  33.075194 -111.974953   \n",
      "1  sample_plot_images  size of image channels  33.075949 -111.974888   \n",
      "2  sample_plot_images  size of image channels  33.074727 -111.975043   \n",
      "3  sample_plot_images  size of image channels  33.074547 -111.975027   \n",
      "4  sample_plot_images  size of image channels  33.075697 -111.974937   \n",
      "5  sample_plot_images  size of image channels  33.074691 -111.974888   \n",
      "\n",
      "               dp_time                                   source    value  \\\n",
      "0  2021-05-15T00:06:28   /mnt/sample_plot_images/rgb_17_7_W.tif  35000.0   \n",
      "1  2021-05-15T00:06:28  /mnt/sample_plot_images/rgb_40_11_W.tif  35000.0   \n",
      "2  2021-05-15T00:06:28    /mnt/sample_plot_images/rgb_6_1_E.tif  35000.0   \n",
      "3  2021-05-15T00:06:28    /mnt/sample_plot_images/rgb_1_2_E.tif  35000.0   \n",
      "4  2021-05-15T00:06:28   /mnt/sample_plot_images/rgb_33_8_W.tif  35000.0   \n",
      "5  2021-05-15T00:06:28   /mnt/sample_plot_images/rgb_5_11_W.tif  35000.0   \n",
      "\n",
      "    timestamp  \n",
      "0  2021-05-15  \n",
      "1  2021-05-15  \n",
      "2  2021-05-15  \n",
      "3  2021-05-15  \n",
      "4  2021-05-15  \n",
      "5  2021-05-15  \n"
     ]
    }
   ],
   "source": [
    "rgb_plot_geo = pd.read_csv((saveDir / \"rgb_plot_geo.csv\"))\n",
    "print(rgb_plot_geo)"
   ]
  },
  {
   "cell_type": "markdown",
   "metadata": {},
   "source": [
    "# References"
   ]
  },
  {
   "cell_type": "markdown",
   "metadata": {},
   "source": [
    "#### Schnaufer et al\n",
    "\n",
    "#### Examples of RGB image processing algorithms that use this template\n",
    "\n",
    "#### https://github.com/AgPipeline/transformer-rgb-indices/blob/main/algorithm_rgb.py"
   ]
  },
  {
   "cell_type": "markdown",
   "metadata": {},
   "source": [
    "# Dependencies"
   ]
  },
  {
   "cell_type": "markdown",
   "metadata": {},
   "source": [
    "* GDAL==3.2.2\n",
    "* numpy==1.20.2\n",
    "* pandas==1.2.4\n",
    "* pathlib==1.0.1\n",
    "* pillow==8.2.0\n",
    "* urllib3==1.26.4"
   ]
  },
  {
   "cell_type": "code",
   "execution_count": null,
   "metadata": {},
   "outputs": [],
   "source": []
  }
 ],
 "metadata": {
  "kernelspec": {
   "display_name": "Python 3",
   "language": "python",
   "name": "python3"
  },
  "language_info": {
   "codemirror_mode": {
    "name": "ipython",
    "version": 3
   },
   "file_extension": ".py",
   "mimetype": "text/x-python",
   "name": "python",
   "nbconvert_exporter": "python",
   "pygments_lexer": "ipython3",
   "version": "3.9.5"
  },
  "toc": {
   "base_numbering": 1,
   "nav_menu": {
    "height": "245px",
    "width": "409px"
   },
   "number_sections": true,
   "sideBar": true,
   "skip_h1_title": false,
   "title_cell": "Table of Contents",
   "title_sidebar": "Contents",
   "toc_cell": false,
   "toc_position": {},
   "toc_section_display": true,
   "toc_window_display": false
  }
 },
 "nbformat": 4,
 "nbformat_minor": 4
}
