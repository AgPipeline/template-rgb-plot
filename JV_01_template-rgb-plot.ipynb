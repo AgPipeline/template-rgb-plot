{
 "cells": [
  {
   "cell_type": "code",
   "execution_count": null,
   "metadata": {},
   "outputs": [],
   "source": [
    "%autosave 5"
   ]
  },
  {
   "cell_type": "markdown",
   "metadata": {},
   "source": [
    "# RGB Plot Algorithm"
   ]
  },
  {
   "cell_type": "markdown",
   "metadata": {},
   "source": [
    "## Authors\n",
    "\n",
    "* Author1 = {\"name\": \"Chris Schnaufer\", \"affiliation\": \"Cyverse/University of Arizona Data Scientist\", \"email\": \"schnaufer@arizona.edu\", \"orcid\": \"0000-0002-6150-4558\"}\n",
    "* Author2 = {\"name\": \"Jacob van der Leeuw\", \"affiliation\": \"Cyverse Intern\", \"email\": \"jvanderleeuw@email.arizona.edu\", \"orcid\": \"0000-0003-0892-9837\"}\n",
    "\n",
    "\n",
    "## Purpose\n",
    "\n",
    "Develop and test an Algorithm to process RGB images that correspond to experiment plots.\n",
    "\n",
    "This notebook is intended to assist researchers integrate their algorithms into Drone Processing Pipeline workflows through an easy to use interface.\n",
    "\n",
    "## Technical contributions\n",
    "\n",
    "* Based off the [template-rgb-plot](https://github.com/AgPipeline/template-rgb-plot) template repository of the University of Arizona [AgPipeline](https://github.com/AgPipeline) project\n",
    "\n",
    "## Methodology\n",
    "\n",
    "It is assumed that:\n",
    "\n",
    "* You have an algorithm that processes RGB data to produce one or more measurements\n",
    "\n",
    "* Have working knowledge of Python\n",
    "\n",
    "* The Python environment is version 3.5 or newer\n",
    "\n",
    "* You are familiar with [Github template repositories](https://docs.github.com/en/repositories/creating-and-managing-repositories/creating-a-template-repository), or know how to use [git](https://git-scm.com)\n",
    "\n",
    "* For testing purposes, a folder named *sample_plot_images*, containing sample plot images, is located in the same directory as this jupyter notebook. An archive of sample plot images can be [downloaded from CyVerse](https://de.cyverse.org/dl/d/4108BB75-AAA3-48E1-BBD4-E10B06CADF54/sample_plot_images.zip)\n",
    "\n",
    "The following steps are followed:\n",
    "1. Clone the GitHub template to your organization or git repository\n",
    "2. Declare parameters describing the algorithm\n",
    "3. Write the Algorithm that returns the calculated values\n",
    "4. Export the algorithm to a python file which can be tested and added to a repository\n",
    "5. Test the algorithm to confirm it works as expected\n",
    "\n",
    "Steps for building and testing a Docker image containing the algorithm follow.\n",
    "\n",
    "## Results\n",
    "\n",
    "This notebook enables a user to develop their own rgb image-processing algorithms in a structured way, validate their algorithm with a testing script, and add their algorithm to a repository. Optional steps are included for building a Docker image of the algorithm.\n",
    "\n",
    "\n",
    "## Funding\n",
    "\n",
    "* Award1 = {\"agency\": \"USDA National Institute of Food and Agriculture, Hatch General Administration of Federal-Grant Fund Research 30152\", \"award_code\":\"30152\"}\n",
    "\n",
    "\n",
    "## Keywords\n",
    "\n",
    "keywords=[\"plot-level\", \"rgb\", \"docker\"]\n",
    "\n",
    "\n",
    "## Citations\n",
    "\n",
    "\n",
    "## Acknowledgements\n",
    "\n",
    "This project is funded by [CyVerse](https://cyverse.org) and in turn the National Science Foundation Grant Nos. DBI-0735191, DBI-1265383, and DBI-1743442\n",
    "\n",
    "template-rgb-plot is licensed under a [BSD 3-Clause License](https://opensource.org/licenses/BSD-3-Clause)"
   ]
  },
  {
   "cell_type": "markdown",
   "metadata": {},
   "source": [
    "# Setup\n",
    "\n",
    "This notebook expects to be run from a local copy of the [template-rgb-plot](https://github.com/AgPipeline/template-rgb-plot) repository. The folder does not need to be under source control, although that is recommended.\n",
    "\n",
    "The following Python modules are used and are expected to be available (listed in alphabetic order):\n",
    "- datetime\n",
    "- importlib\n",
    "- json\n",
    "- numpy\n",
    "- os\n",
    "- pathlib\n",
    "- PIL\n",
    "- re\n",
    "- textwrap"
   ]
  },
  {
   "cell_type": "markdown",
   "metadata": {},
   "source": [
    "## Top-level Docstring\n",
    "\n",
    "Change this to a meaningful docstring for your algorithm (replace 'My nifty plot-level RGB algorithm')"
   ]
  },
  {
   "cell_type": "raw",
   "metadata": {},
   "source": [
    "\"\"\"My nifty plot-level RGB algorithm\n",
    "\"\"\""
   ]
  },
  {
   "cell_type": "markdown",
   "metadata": {},
   "source": [
    "## Python module imports for running the algorithm\n",
    "\n",
    "Please add any additional import statements that will be needed for your algorithm in the block below"
   ]
  },
  {
   "cell_type": "raw",
   "metadata": {},
   "source": [
    "import numpy as np"
   ]
  },
  {
   "cell_type": "markdown",
   "metadata": {},
   "source": [
    "## Parameter definitions\n",
    "\n",
    "In this section we define information that gets used to identify and describe the algorithm, and declare what calculated values will be returned"
   ]
  },
  {
   "cell_type": "markdown",
   "metadata": {},
   "source": [
    "#### Define the version number of your algorithm. Consider using [Semantic Versioning](https://semver.org/)\n",
    "\n",
    "If you are updating the algorithm, be sure to change the version number to a larger value"
   ]
  },
  {
   "cell_type": "raw",
   "metadata": {},
   "source": [
    "VERSION = '1.0'"
   ]
  },
  {
   "cell_type": "markdown",
   "metadata": {},
   "source": [
    "#### Provide information on the creator and contributors of this algorithm\n",
    "\n",
    "This provides a way for the author of the algorithm to be contacted and for proper attribution"
   ]
  },
  {
   "cell_type": "raw",
   "metadata": {},
   "source": [
    "ALGORITHM_AUTHOR = ''\n",
    "ALGORITHM_AUTHOR_EMAIL = ''\n",
    "ALGORITHM_CONTRIBUTORS = [\"\"]"
   ]
  },
  {
   "cell_type": "markdown",
   "metadata": {},
   "source": [
    "#### Name and describe your algorithm\n",
    "\n",
    "Give the algorithm a meaningful name and provide a short description on what it does. The algorithm name shouldn't have any spaces or tabs\n",
    "\n",
    "*Example:* \\\n",
    "ALGORITHM_NAME = 'pixel-counter' \\\n",
    "ALGORITHM_DESCRIPTION = 'Counts the number of pixels in an image'"
   ]
  },
  {
   "cell_type": "raw",
   "metadata": {},
   "source": [
    "ALGORITHM_NAME = ''\n",
    "ALGORITHM_DESCRIPTION = ''"
   ]
  },
  {
   "cell_type": "markdown",
   "metadata": {},
   "source": [
    "#### Provide citation information for algorithm publication. This includes the citation author, the citation title, and the citation year\n",
    "\n",
    "This allows the algorithm to be cited correctly. Multiple citations are allowed"
   ]
  },
  {
   "cell_type": "raw",
   "metadata": {},
   "source": [
    "CITATION_AUTHOR = ''\n",
    "CITATION_TITLE = ''\n",
    "CITATION_YEAR = ''"
   ]
  },
  {
   "cell_type": "markdown",
   "metadata": {},
   "source": [
    "#### Include the names of variables\n",
    "\n",
    "Add the names of the variables returned by the algorithm, separated by commas. Note that variable names cannot have comma's in them: use a different separator instead. Also, all white space is kept intact; don't add any extra whitespace since it may cause name comparisons to fail. These variable names are used as part of the formatted results.\n",
    "\n",
    "Replace and/or remove any names that aren't part of your algorithm.\n",
    "\n",
    "*Example:* VARIABLE_NAMES = 'size of image channels'"
   ]
  },
  {
   "cell_type": "raw",
   "metadata": {},
   "source": [
    "VARIABLE_NAMES = ''"
   ]
  },
  {
   "cell_type": "markdown",
   "metadata": {},
   "source": [
    "#### Include the units and labels of the variables\n",
    "\n",
    "The order of VARIABLE_NAMES needs to be matched. Multiple entries are also separated by commas. A VARIABLE_UNITS entry must be made for each name in VARIABLE_NAMES, even if it's empty. VARIABLE_LABELS is an optional field and can be left empty.\n",
    "\n",
    "*Example:* VARIABLE_UNITS = 'pixels'"
   ]
  },
  {
   "cell_type": "raw",
   "metadata": {},
   "source": [
    "VARIABLE_UNITS = ''\n",
    "VARIABLE_LABELS = ''"
   ]
  },
  {
   "cell_type": "markdown",
   "metadata": {},
   "source": [
    "#### Optional override for the generation of a BETYdb compatible csv file\n",
    "\n",
    "Set to `True` to generate a compatible file"
   ]
  },
  {
   "cell_type": "raw",
   "metadata": {},
   "source": [
    "WRITE_BETYDB_CSV = False"
   ]
  },
  {
   "cell_type": "markdown",
   "metadata": {},
   "source": [
    "#### Optional override for the generation of a TERRA REF Geostreams compatible csv file\n",
    "\n",
    "Set the variable to `True` to generate a compatible file"
   ]
  },
  {
   "cell_type": "raw",
   "metadata": {},
   "source": [
    "WRITE_GEOSTREAMS_CSV = False"
   ]
  },
  {
   "cell_type": "markdown",
   "metadata": {},
   "source": [
    "# Write the Algorithm\n",
    "\n",
    "In this section you are able to define the calculate() function in order to generate values based off of the rgb images. Fill in the calculate() function below with your algorithm.\n",
    "\n",
    "The **pxarray** parameter contains the pre-loaded image available for processing. This function is called once per plot-image\n",
    "\n",
    "Save this notebook after completing the algorithm"
   ]
  },
  {
   "cell_type": "raw",
   "metadata": {},
   "source": [
    "def calculate(pxarray: np.ndarray):\n",
    "    \"\"\"Calculates one or more values from plot-level RGB data\n",
    "    Arguments:\n",
    "        pxarray: Array of RGB data for a single plot\n",
    "    Return:\n",
    "        Returns one or more calculated values\n",
    "    \"\"\"\n",
    "    # For example:\n",
    "    #   channel_size = pxarray[:, :, 1].size\n",
    "    #   return channel_size"
   ]
  },
  {
   "cell_type": "markdown",
   "metadata": {},
   "source": [
    "## Generate algorithm_rgb.py\n",
    "\n",
    "This will generate the algorithm file (named *algorithm_rgb.py*) containing the parameters as well as the calculate() function. This file can then be used by [itself or built into a Docker image](https://github.com/AgPipeline/template-rgb-plot/blob/main/HOW_TO.md) to be used as a part of a workflow.\n",
    "\n",
    "**NOTE:** Be sure to save this notebook before running the following cell (the saved notebook is used to generate the file)"
   ]
  },
  {
   "cell_type": "code",
   "execution_count": null,
   "metadata": {},
   "outputs": [],
   "source": [
    "import json\n",
    "from pathlib import Path\n",
    "import re\n",
    "import textwrap\n",
    "\n",
    "def write_algorithm_rgb_file():\n",
    "    cells = json.load(open(Path.cwd() / \"JV_01_template-rgb-plot.ipynb\"))[\"cells\"]\n",
    "    with open(\"algorithm_rgb.py\", \"w\") as outfile:\n",
    "        for key in cells:\n",
    "            toWrite = \"\"\n",
    "            if key[\"cell_type\"] == \"markdown\":\n",
    "                for entry in key[\"source\"]:\n",
    "                    if entry[0:4] == \"####\":\n",
    "                        entry = re.sub('####', '', entry).lstrip()\n",
    "                        toWrite = toWrite + entry\n",
    "                        toWrite = format_string(toWrite)\n",
    "                        outfile.write(\"\\n\\n\" + str(toWrite) + \"\\n\")\n",
    "            elif key[\"cell_type\"] == \"raw\":\n",
    "                for entry in key[\"source\"]:\n",
    "                    if entry[0:4] == 'def ':\n",
    "                        toWrite = toWrite + '\\n\\n'\n",
    "                    toWrite = toWrite + entry\n",
    "                    if entry[-3:] == '\"\"\"':\n",
    "                        toWrite = toWrite + '\\n'\n",
    "                outfile.write(str(toWrite))\n",
    "        outfile.write(\"\\n\")\n",
    "                \n",
    "def format_string(toWrite):\n",
    "    returnStr = \"\"\n",
    "    lines = textwrap.wrap(toWrite, width=115, break_long_words=False)\n",
    "    for line in range(len(lines)):\n",
    "        if line != len(lines)-1:\n",
    "            returnStr = returnStr + \"# \" + lines[line] + \"\\n\"\n",
    "        else: \n",
    "            returnStr = returnStr + \"# \" + lines[line]\n",
    "    return returnStr\n",
    "\n",
    "write_algorithm_rgb_file()"
   ]
  },
  {
   "cell_type": "markdown",
   "metadata": {},
   "source": [
    "## Test the function\n",
    "\n",
    "Test the function using the sample plot images located in the *sample_plot_images* folder. It is assumed that the files in the folder are supported image files (no other types of files are in the folder).\n",
    "\n",
    "This testing is used to determine if your algorithm is producing the correct results."
   ]
  },
  {
   "cell_type": "code",
   "execution_count": null,
   "metadata": {},
   "outputs": [],
   "source": [
    "import os\n",
    "import numpy as np\n",
    "from pathlib import Path\n",
    "from PIL import Image\n",
    "from importlib import reload\n",
    "\n",
    "import algorithm_rgb\n",
    "reload(algorithm_rgb)\n",
    "\n",
    "for filename in os.listdir(\"sample_plot_images\"):\n",
    "    img = Image.open(Path.cwd() / \"sample_plot_images\" / filename)\n",
    "    img_arr = np.array(img)\n",
    "    print(algorithm_rgb.calculate(img_arr))\n"
   ]
  },
  {
   "cell_type": "markdown",
   "metadata": {},
   "source": [
    "Once you are satisfied with the results, you should save the generated *algorithm_rgb.py* file to source control"
   ]
  },
  {
   "cell_type": "markdown",
   "metadata": {},
   "source": [
    "## (OPTIONAL) Local Production Testing\n",
    "\n",
    "It's possible to test your algorithm as it would be run in a production setting, without building a Docker image (see below to build a Docker image)."
   ]
  },
  {
   "cell_type": "markdown",
   "metadata": {},
   "source": [
    "### Python Modules\n",
    "\n",
    "The following additional libraries need to be installed on the testing system. The name of the library may be different for your system.\n",
    "- libgdal-dev\n",
    "\n",
    "The following additional python modules need to be installed on the testing system.\n",
    "- agpypeline\n"
   ]
  },
  {
   "cell_type": "markdown",
   "metadata": {},
   "source": [
    "### Other Projects\n",
    "\n",
    "Create a clone of the project at https://github.com/AgPipeline/plot-base-rgb.git into an empty directory\n",
    "\n",
    "```\n",
    "git clone https://github.com/AgPipeline/plot-base-rgb.git ./\n",
    "```\n",
    "\n",
    "This downloads the supporting files needed to run the algorithm outside of Docker"
   ]
  },
  {
   "cell_type": "markdown",
   "metadata": {},
   "source": [
    "Copy the *algorithm_rgb.py* file to the directory and run the following command\n",
    "\n",
    "```\n",
    "python3 transformer.py <path-to-image> <path-to-image> ...\n",
    "```\n",
    "\n",
    "where the term __\\<path-to-image\\>__ is replaced with the path to one or more image files.\n",
    "\n",
    "The *transformer.py* file handles all the preparation necessary to run the algorithm"
   ]
  },
  {
   "cell_type": "markdown",
   "metadata": {},
   "source": [
    "You can run the following command to see what options are available\n",
    "\n",
    "```\n",
    "python3 transformer.py --help\n",
    "```"
   ]
  },
  {
   "cell_type": "markdown",
   "metadata": {},
   "source": [
    "# (OPTIONAL) Build a Docker Image\n",
    "\n",
    "The following steps are for generating, running, and testing a Docker image based off of your algorithm. You need to run the following steps in an environment with Docker installed. The resulting Docker image will be ready for a production environment."
   ]
  },
  {
   "cell_type": "markdown",
   "metadata": {},
   "source": [
    "## Generate your Dockerfile\n",
    "\n",
    "Run the *generate.py* script to create a [Dockerfile](https://docs.docker.com/engine/reference/builder/).\n",
    "\n",
    "You should see something like the following:\n",
    "\n",
    "> Confirming the environment  \n",
    " Continuing to generate files ...  \n",
    " Configuring files\n",
    "\n",
    "The result of this command should be `0`.\n",
    "\n",
    "When correcting any reported problems, be sure to re-save the *algorithm_rgb.py* file before trying again"
   ]
  },
  {
   "cell_type": "code",
   "execution_count": null,
   "metadata": {},
   "outputs": [],
   "source": [
    "import os\n",
    "\n",
    "cmd0 = \"python3 generate.py\"\n",
    "os.system(cmd0)"
   ]
  },
  {
   "cell_type": "markdown",
   "metadata": {},
   "source": [
    "## Cleanup previous runs\n",
    "\n",
    "If there are leftover files from previous runs, we remove them here"
   ]
  },
  {
   "cell_type": "code",
   "execution_count": null,
   "metadata": {},
   "outputs": [],
   "source": [
    "filelist = [\"result.json\", \"rgb_plot.csv\", \"rgb_plot_betydb.csv\", \"rgb_plot_geo.csv\"]\n",
    "for file in filelist:\n",
    "    if os.path.isfile(file):\n",
    "        os.remove(file)"
   ]
  },
  {
   "cell_type": "markdown",
   "metadata": {},
   "source": [
    "## Build the Docker Image\n",
    "\n",
    "Now build the Docker image. The created image will have the project name and project version"
   ]
  },
  {
   "cell_type": "code",
   "execution_count": null,
   "metadata": {},
   "outputs": [],
   "source": [
    "import algorithm_rgb\n",
    "reload(algorithm_rgb)\n",
    "\n",
    "cmd = \"docker build -t \" + algorithm_rgb.ALGORITHM_NAME + \":\" + algorithm_rgb.VERSION + \" .\"\n",
    "os.system(cmd)"
   ]
  },
  {
   "cell_type": "markdown",
   "metadata": {},
   "source": [
    "## Test the Docker Image\n",
    "\n",
    "The following command will run the built Docker image and create the output files."
   ]
  },
  {
   "cell_type": "code",
   "execution_count": null,
   "metadata": {},
   "outputs": [],
   "source": [
    "cmd = 'docker run --rm -v \"`pwd`:/mnt\" ' + algorithm_rgb.ALGORITHM_NAME + \":\" + algorithm_rgb.VERSION + ' --working_space \"/mnt\"'\n",
    "for filename in os.listdir(\"sample_plot_images\"):\n",
    "    cmd += ' \"/mnt/sample_plot_images/' + filename + '\"'\n",
    "os.system(cmd)"
   ]
  },
  {
   "cell_type": "markdown",
   "metadata": {},
   "source": [
    "## Confirm Results\n",
    "\n",
    "Make sure that the correct files are generated and contain appropriate results. If WRITE_BETYDB_CSV or WRITE_GEOSTREAMS_CSV were set to `True`, additional CSV files will be generated."
   ]
  },
  {
   "cell_type": "code",
   "execution_count": null,
   "metadata": {},
   "outputs": [],
   "source": [
    "from datetime import datetime\n",
    "\n",
    "# Minimal set of expected files\n",
    "filelist = [\"result.json\", \"rgb_plot.csv\"]\n",
    "\n",
    "for filename in filelist:\n",
    "    assert os.path.isfile(filename)\n",
    "    if (file == \"result.json\"):\n",
    "        result = json.load(open(file))[algorithm_rgb.ALGORITHM_NAME]\n",
    "        assert result['version'] == algorithm_rgb.VERSION\n",
    "        assert result['traits'] == algorithm_rgb.VARIABLE_NAMES\n",
    "        assert result['units'] == algorithm_rgb.VARIABLE_UNITS\n",
    "        assert result['labels'] == algorithm_rgb.VARIABLE_LABELS\n",
    "        assert result['files_processed'] == str(len(os.listdir(\"sample_plot_images\")))\n",
    "        assert result['lines_written'] == str(len(os.listdir(\"sample_plot_images\")))\n",
    "        if (algorithm_rgb.WRITE_GEOSTREAMS_CSV == True):\n",
    "            assert result['wrote_geostreams'] == \"Yes\"\n",
    "        else:\n",
    "            assert result['wrote_geostreams'] == \"No\"\n",
    "        if (algorithm_rgb.WRITE_BETYDB_CSV == True):\n",
    "            assert result['wrote_betydb'] == \"Yes\"\n",
    "        else: \n",
    "            assert result['wrote_betydb'] == \"No\"\n",
    "print (\"Success\")"
   ]
  },
  {
   "cell_type": "markdown",
   "metadata": {},
   "source": [
    "# References"
   ]
  },
  {
   "cell_type": "markdown",
   "metadata": {},
   "source": [
    "Schnaufer, et. al.\n",
    "\n",
    "## Example of a RGB image processing algorithm that uses this template\n",
    "\n",
    "https://github.com/AgPipeline/transformer-rgb-indices/blob/main/algorithm_rgb.py"
   ]
  },
  {
   "cell_type": "code",
   "execution_count": null,
   "metadata": {},
   "outputs": [],
   "source": []
  }
 ],
 "metadata": {
  "kernelspec": {
   "display_name": "Python 3 (ipykernel)",
   "language": "python",
   "name": "python3"
  },
  "language_info": {
   "codemirror_mode": {
    "name": "ipython",
    "version": 3
   },
   "file_extension": ".py",
   "mimetype": "text/x-python",
   "name": "python",
   "nbconvert_exporter": "python",
   "pygments_lexer": "ipython3",
   "version": "3.9.4"
  },
  "toc": {
   "base_numbering": 1,
   "nav_menu": {
    "height": "245px",
    "width": "409px"
   },
   "number_sections": true,
   "sideBar": true,
   "skip_h1_title": false,
   "title_cell": "Table of Contents",
   "title_sidebar": "Contents",
   "toc_cell": false,
   "toc_position": {},
   "toc_section_display": true,
   "toc_window_display": false
  }
 },
 "nbformat": 4,
 "nbformat_minor": 4
}
