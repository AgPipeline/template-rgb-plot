{
 "cells": [
  {
   "cell_type": "markdown",
   "metadata": {},
   "source": [
    "# Template RGB Plot"
   ]
  },
  {
   "cell_type": "markdown",
   "metadata": {},
   "source": [
    "### Importing modules for the Jupyter Notebook"
   ]
  },
  {
   "cell_type": "code",
   "execution_count": 4,
   "metadata": {},
   "outputs": [],
   "source": [
    "import json\n",
    "import numpy as np\n",
    "import os\n",
    "import pandas as pd\n",
    "import re\n",
    "import shutil\n",
    "import sys\n",
    "import textwrap\n",
    "import urllib.request as urllib\n",
    "import zipfile\n",
    "\n",
    "from PIL import Image"
   ]
  },
  {
   "cell_type": "markdown",
   "metadata": {},
   "source": [
    "## Ensure that you are in the correct directory:"
   ]
  },
  {
   "cell_type": "code",
   "execution_count": 5,
   "metadata": {},
   "outputs": [],
   "source": [
    "if os.path.isfile(\"README.md\"):\n",
    "    os.chdir(\"./{{cookiecutter._project_name}}\")"
   ]
  },
  {
   "cell_type": "markdown",
   "metadata": {},
   "source": [
    "## Top-level Docstring. Change this to reflect your algorithm"
   ]
  },
  {
   "cell_type": "raw",
   "metadata": {},
   "source": [
    "\"\"\"My nifty plot-level RGB algorithm\n",
    "\"\"\""
   ]
  },
  {
   "cell_type": "markdown",
   "metadata": {},
   "source": [
    "#### Imports into the python file. Please add any additional import statements that will be needed for your algorithm below"
   ]
  },
  {
   "cell_type": "raw",
   "metadata": {},
   "source": [
    "import numpy as np"
   ]
  },
  {
   "cell_type": "markdown",
   "metadata": {},
   "source": [
    "#### Define the version number of your algorithm. Consider using [Semantic Versioning](https://semver.org/)"
   ]
  },
  {
   "cell_type": "raw",
   "metadata": {},
   "source": [
    "VERSION = '1.0'"
   ]
  },
  {
   "cell_type": "markdown",
   "metadata": {},
   "source": [
    "#### Provide information on the creator and contributors of this algorithm"
   ]
  },
  {
   "cell_type": "raw",
   "metadata": {},
   "source": [
    "ALGORITHM_AUTHOR = 'Unknown'\n",
    "ALGORITHM_AUTHOR_EMAIL = 'author@example.com'\n",
    "ALGORITHM_CONTRIBUTORS = [\"\"]"
   ]
  },
  {
   "cell_type": "markdown",
   "metadata": {},
   "source": [
    "#### Name and describe your algorithm"
   ]
  },
  {
   "cell_type": "raw",
   "metadata": {},
   "source": [
    "ALGORITHM_NAME = 'algorithm'\n",
    "ALGORITHM_DESCRIPTION = 'add description here'"
   ]
  },
  {
   "cell_type": "markdown",
   "metadata": {},
   "source": [
    "#### Provide citation information for algorithm publication. This includes the citation author, the citation title, and the citation year"
   ]
  },
  {
   "cell_type": "raw",
   "metadata": {},
   "source": [
    "CITATION_AUTHOR = 'add citation author'\n",
    "CITATION_TITLE = 'add citation title'\n",
    "CITATION_YEAR = '2020'"
   ]
  },
  {
   "cell_type": "markdown",
   "metadata": {},
   "source": [
    "#### Include the name(s) of the variable(s) used in the algorithm, separated by commas. Note that variable names cannot have comma's in them: use a different separator instead. Also, all white space is kept intact; don't add any extra whitespace since it may cause name comparisons to fail"
   ]
  },
  {
   "cell_type": "raw",
   "metadata": {},
   "source": [
    "VARIABLE_NAMES = 'size of image channels'"
   ]
  },
  {
   "cell_type": "markdown",
   "metadata": {},
   "source": [
    "#### Include the units and labels of the variables, matching the order of VARIABLE_NAMES, also separated by commas. VARIABLE_LABELS is an optional field and can be left empty."
   ]
  },
  {
   "cell_type": "raw",
   "metadata": {},
   "source": [
    "VARIABLE_UNITS = 'pixels'\n",
    "VARIABLE_LABELS = ''"
   ]
  },
  {
   "cell_type": "markdown",
   "metadata": {},
   "source": [
    "#### Optional override for the generation of a BETYdb compatible csv file. Set to False to suppress the creation of a compatible file"
   ]
  },
  {
   "cell_type": "raw",
   "metadata": {},
   "source": [
    "WRITE_BETYDB_CSV = True"
   ]
  },
  {
   "cell_type": "markdown",
   "metadata": {},
   "source": [
    "#### Optional override for the generation of a TERRA REF Geostreams compatible csv file. Set the variable to False to suppress the creation of a compatible file"
   ]
  },
  {
   "cell_type": "raw",
   "metadata": {},
   "source": [
    "WRITE_GEOSTREAMS_CSV = True"
   ]
  },
  {
   "cell_type": "markdown",
   "metadata": {},
   "source": [
    "## Change the url below to get images from a different source. This assumes that the image files are contained within a .zip file. The code below will add the sample_plot_images chosen to the system"
   ]
  },
  {
   "cell_type": "code",
   "execution_count": 6,
   "metadata": {},
   "outputs": [],
   "source": [
    "url = \"https://de.cyverse.org/dl/d/4108BB75-AAA3-48E1-BBD4-E10B06CADF54/sample_plot_images.zip\"\n",
    "\n",
    "if os.path.isdir(\"sample_plot_images\"):\n",
    "    shutil.rmtree(\"sample_plot_images\")\n",
    "os.mkdir(\"sample_plot_images\")\n",
    "if not os.path.isfile(\"sample_plot_images.zip\"):\n",
    "    urllib.urlretrieve(url, \"sample_plot_images.zip\")\n",
    "zipfile.ZipFile(\"sample_plot_images.zip\", 'r').extractall(\"sample_plot_images\")\n",
    "os.remove(\"sample_plot_images.zip\")"
   ]
  },
  {
   "cell_type": "markdown",
   "metadata": {},
   "source": [
    "#### Define your calculate() function"
   ]
  },
  {
   "cell_type": "raw",
   "metadata": {},
   "source": [
    "def calculate(pxarray: np.ndarray):\n",
    "    \"\"\"Calculates one or more values from plot-level RGB data\n",
    "    Arguments:\n",
    "        pxarray: Array of RGB data for a single plot\n",
    "    Return:\n",
    "        Returns one or more calculated values\n",
    "    \"\"\"\n",
    "    # ALGORITHM: replace the following lines with your algorithm\n",
    "    channel_size = pxarray[:, :, 1].size*5\n",
    "    # RETURN: replace the following return with your calculated values.\n",
    "    # Be sure to order them as defined in VARIABLE_NAMES above\n",
    "    return channel_size"
   ]
  },
  {
   "cell_type": "markdown",
   "metadata": {},
   "source": [
    "## Update algorithm_rgb.py with your changes"
   ]
  },
  {
   "cell_type": "code",
   "execution_count": 23,
   "metadata": {},
   "outputs": [],
   "source": [
    "def write_algorithm_rgb_file():\n",
    "    cells = json.load(open(\"../template-rgb-plot.ipynb\"))[\"cells\"]\n",
    "    with open(\"algorithm_rgb.py\", \"w\") as outfile:\n",
    "        for key in cells:\n",
    "            toWrite = \"\"\n",
    "            if key[\"cell_type\"] == \"markdown\":\n",
    "                for entry in key[\"source\"]:\n",
    "                    if entry[0:4] == \"####\":\n",
    "                        entry = re.sub('####', '', entry).lstrip()\n",
    "                        toWrite = toWrite + entry\n",
    "                        toWrite = format_string(toWrite)\n",
    "                        outfile.write(\"\\n\\n\" + str(toWrite) + \"\\n\")\n",
    "            elif key[\"cell_type\"] == \"raw\":\n",
    "                for entry in key[\"source\"]:\n",
    "                    toWrite = toWrite + entry\n",
    "                outfile.write(str(toWrite))\n",
    "        outfile.write(\"\\n\")\n",
    "                \n",
    "def format_string(toWrite):\n",
    "    returnStr = \"\"\n",
    "    lines = textwrap.wrap(toWrite, width=115, break_long_words=False)\n",
    "    for line in range(len(lines)):\n",
    "        if line != len(lines)-1:\n",
    "            returnStr = returnStr + \"# \" + lines[line] + \"\\n\"\n",
    "        else: \n",
    "            returnStr = returnStr + \"# \" + lines[line]\n",
    "    return returnStr\n",
    "\n",
    "write_algorithm_rgb_file()"
   ]
  },
  {
   "cell_type": "markdown",
   "metadata": {},
   "source": [
    "## Test the calculate() function on the sample plot images located in the sample_plot_images folder"
   ]
  },
  {
   "cell_type": "code",
   "execution_count": 8,
   "metadata": {},
   "outputs": [
    {
     "name": "stdout",
     "output_type": "stream",
     "text": [
      "35000\n",
      "35000\n",
      "35000\n",
      "35000\n",
      "35000\n",
      "35000\n"
     ]
    }
   ],
   "source": [
    "import algorithm_rgb\n",
    "for filename in os.listdir(\"sample_plot_images\"):\n",
    "    img = Image.open(\"sample_plot_images/\" + filename)\n",
    "    img_arr = np.array(img)\n",
    "    print(algorithm_rgb.calculate(img_arr))"
   ]
  },
  {
   "cell_type": "markdown",
   "metadata": {},
   "source": [
    "## Next Generate your Dockerfile by running the generate.py script"
   ]
  },
  {
   "cell_type": "code",
   "execution_count": 9,
   "metadata": {},
   "outputs": [
    {
     "data": {
      "text/plain": [
       "0"
      ]
     },
     "execution_count": 9,
     "metadata": {},
     "output_type": "execute_result"
    }
   ],
   "source": [
    "cmd0 = \"python generate.py\"\n",
    "os.system(cmd0)"
   ]
  },
  {
   "cell_type": "markdown",
   "metadata": {},
   "source": [
    "## If there are leftover files from previous runs, delete them"
   ]
  },
  {
   "cell_type": "code",
   "execution_count": 10,
   "metadata": {},
   "outputs": [],
   "source": [
    "filelist = [\"result.json\", \"rgb_plot.csv\", \"rgb_plot_betydb.csv\", \"rgb_plot_geo.csv\"]\n",
    "for file in filelist:\n",
    "    if os.path.isfile(file):\n",
    "        os.remove(file)"
   ]
  },
  {
   "cell_type": "markdown",
   "metadata": {},
   "source": [
    "## Now build the dockerfile (Currently this will have a default project name and project version)"
   ]
  },
  {
   "cell_type": "code",
   "execution_count": 11,
   "metadata": {},
   "outputs": [
    {
     "data": {
      "text/plain": [
       "0"
      ]
     },
     "execution_count": 11,
     "metadata": {},
     "output_type": "execute_result"
    }
   ],
   "source": [
    "cmd = \"docker build -t \" + algorithm_rgb.ALGORITHM_NAME + \":\" + algorithm_rgb.VERSION + \" .\"\n",
    "os.system(cmd)"
   ]
  },
  {
   "cell_type": "markdown",
   "metadata": {},
   "source": [
    "## Next run the dockerfile for testing"
   ]
  },
  {
   "cell_type": "code",
   "execution_count": 12,
   "metadata": {},
   "outputs": [
    {
     "data": {
      "text/plain": [
       "0"
      ]
     },
     "execution_count": 12,
     "metadata": {},
     "output_type": "execute_result"
    }
   ],
   "source": [
    "cmd = 'docker run --rm --mount \"src=`pwd`,target=/mnt,type=bind\" ' + algorithm_rgb.ALGORITHM_NAME + \":\" + algorithm_rgb.VERSION + ' --working_space \"/mnt\"'\n",
    "for filename in os.listdir(\"sample_plot_images\"):\n",
    "    cmd += ' \"/mnt/sample_plot_images/' + filename + '\"'\n",
    "os.system(cmd)"
   ]
  },
  {
   "cell_type": "markdown",
   "metadata": {},
   "source": [
    "## Make sure that the correct files are generated and contain appropriate results"
   ]
  },
  {
   "cell_type": "code",
   "execution_count": 13,
   "metadata": {},
   "outputs": [],
   "source": [
    "filelist = [\"result.json\", \"rgb_plot.csv\", \"rgb_plot_betydb.csv\", \"rgb_plot_geo.csv\"]\n",
    "for file in filelist:\n",
    "    assert os.path.isfile(file)\n",
    "    if (file == \"result.json\"):\n",
    "        result = json.load(open(file))[algorithm_rgb.ALGORITHM_NAME]\n",
    "        assert result['version'] == algorithm_rgb.VERSION\n",
    "        assert result['traits'] == algorithm_rgb.VARIABLE_NAMES\n",
    "        assert result['units'] == algorithm_rgb.VARIABLE_UNITS\n",
    "        assert result['labels'] == algorithm_rgb.VARIABLE_LABELS\n",
    "        assert result['files_processed'] == str(len(os.listdir(\"sample_plot_images\")))\n",
    "        assert result['lines_written'] == str(len(os.listdir(\"sample_plot_images\")))\n",
    "        if (algorithm_rgb.WRITE_GEOSTREAMS_CSV == True):\n",
    "            assert result['wrote_geostreams'] == \"Yes\"\n",
    "        else:\n",
    "            assert result['wrote_geostreams'] == \"No\"\n",
    "        if (algorithm_rgb.WRITE_BETYDB_CSV == True):\n",
    "            assert result['wrote_betydb'] == \"Yes\"\n",
    "        else: \n",
    "            assert result['wrote_betydb'] == \"No\""
   ]
  },
  {
   "cell_type": "markdown",
   "metadata": {},
   "source": [
    "## View the output files. They will be displayed in the following order: \n",
    "## 1.) result.json\n",
    "## 2.) rgb_plot.csv\n",
    "## 3.) rgb_plot_betydb.csv\n",
    "## 4.) rgb_plot_geo.csv"
   ]
  },
  {
   "cell_type": "code",
   "execution_count": 14,
   "metadata": {},
   "outputs": [
    {
     "name": "stdout",
     "output_type": "stream",
     "text": [
      "{'code': 0, 'file': [{'path': '/mnt/rgb_plot.csv', 'key': 'csv'}, {'path': '/mnt/rgb_plot_geo.csv', 'key': 'csv'}, {'path': '/mnt/rgb_plot_betydb.csv', 'key': 'csv'}], 'algorithm': {'version': '1.0', 'traits': 'size of image channels', 'units': 'pixels', 'labels': '', 'files_processed': '6', 'lines_written': '6', 'wrote_geostreams': 'Yes', 'wrote_betydb': 'Yes'}}\n"
     ]
    }
   ],
   "source": [
    "print(json.load(open(\"result.json\")))"
   ]
  },
  {
   "cell_type": "code",
   "execution_count": 15,
   "metadata": {},
   "outputs": [
    {
     "name": "stdout",
     "output_type": "stream",
     "text": [
      "   species  site   timestamp        lat         lon      citation_author  \\\n",
      "0      NaN   NaN  2021-01-05  33.075194 -111.974953  add citation author   \n",
      "1      NaN   NaN  2021-01-05  33.075949 -111.974888  add citation author   \n",
      "2      NaN   NaN  2021-01-05  33.074727 -111.975043  add citation author   \n",
      "3      NaN   NaN  2021-01-05  33.074547 -111.975027  add citation author   \n",
      "4      NaN   NaN  2021-01-05  33.075697 -111.974937  add citation author   \n",
      "5      NaN   NaN  2021-01-05  33.074691 -111.974888  add citation author   \n",
      "\n",
      "   citation_year      citation_title  size of image channels (pixels)  \n",
      "0           2020  add citation title                          35000.0  \n",
      "1           2020  add citation title                          35000.0  \n",
      "2           2020  add citation title                          35000.0  \n",
      "3           2020  add citation title                          35000.0  \n",
      "4           2020  add citation title                          35000.0  \n",
      "5           2020  add citation title                          35000.0  \n"
     ]
    }
   ],
   "source": [
    "rgb_plot = pd.read_csv(\"rgb_plot.csv\")\n",
    "print(rgb_plot)"
   ]
  },
  {
   "cell_type": "code",
   "execution_count": 16,
   "metadata": {},
   "outputs": [
    {
     "name": "stdout",
     "output_type": "stream",
     "text": [
      "        local_datetime  access_level  species  site      citation_author  \\\n",
      "0  2021-01-05T21:58:41             2      NaN   NaN  add citation author   \n",
      "1  2021-01-05T21:58:41             2      NaN   NaN  add citation author   \n",
      "2  2021-01-05T21:58:41             2      NaN   NaN  add citation author   \n",
      "3  2021-01-05T21:58:41             2      NaN   NaN  add citation author   \n",
      "4  2021-01-05T21:58:41             2      NaN   NaN  add citation author   \n",
      "5  2021-01-05T21:58:41             2      NaN   NaN  add citation author   \n",
      "\n",
      "   citation_year      citation_title   method  size of image channels  \n",
      "0           2020  add citation title  Unknown                 35000.0  \n",
      "1           2020  add citation title  Unknown                 35000.0  \n",
      "2           2020  add citation title  Unknown                 35000.0  \n",
      "3           2020  add citation title  Unknown                 35000.0  \n",
      "4           2020  add citation title  Unknown                 35000.0  \n",
      "5           2020  add citation title  Unknown                 35000.0  \n"
     ]
    }
   ],
   "source": [
    "rgb_plot_betydb = pd.read_csv(\"rgb_plot_betydb.csv\")\n",
    "print(rgb_plot_betydb)"
   ]
  },
  {
   "cell_type": "code",
   "execution_count": 17,
   "metadata": {},
   "outputs": [
    {
     "name": "stdout",
     "output_type": "stream",
     "text": [
      "   site                   trait        lat         lon              dp_time  \\\n",
      "0   NaN  size of image channels  33.075194 -111.974953  2021-01-05T21:58:41   \n",
      "1   NaN  size of image channels  33.075949 -111.974888  2021-01-05T21:58:41   \n",
      "2   NaN  size of image channels  33.074727 -111.975043  2021-01-05T21:58:41   \n",
      "3   NaN  size of image channels  33.074547 -111.975027  2021-01-05T21:58:41   \n",
      "4   NaN  size of image channels  33.075697 -111.974937  2021-01-05T21:58:41   \n",
      "5   NaN  size of image channels  33.074691 -111.974888  2021-01-05T21:58:41   \n",
      "\n",
      "                                    source    value   timestamp  \n",
      "0   /mnt/sample_plot_images/rgb_17_7_W.tif  35000.0  2021-01-05  \n",
      "1  /mnt/sample_plot_images/rgb_40_11_W.tif  35000.0  2021-01-05  \n",
      "2    /mnt/sample_plot_images/rgb_6_1_E.tif  35000.0  2021-01-05  \n",
      "3    /mnt/sample_plot_images/rgb_1_2_E.tif  35000.0  2021-01-05  \n",
      "4   /mnt/sample_plot_images/rgb_33_8_W.tif  35000.0  2021-01-05  \n",
      "5   /mnt/sample_plot_images/rgb_5_11_W.tif  35000.0  2021-01-05  \n"
     ]
    }
   ],
   "source": [
    "rgb_plot_geo = pd.read_csv(\"rgb_plot_geo.csv\")\n",
    "print(rgb_plot_geo)"
   ]
  }
 ],
 "metadata": {
  "kernelspec": {
   "display_name": "Python 3",
   "language": "python",
   "name": "python3"
  },
  "language_info": {
   "codemirror_mode": {
    "name": "ipython",
    "version": 3
   },
   "file_extension": ".py",
   "mimetype": "text/x-python",
   "name": "python",
   "nbconvert_exporter": "python",
   "pygments_lexer": "ipython3",
   "version": "3.9.1"
  }
 },
 "nbformat": 4,
 "nbformat_minor": 4
}
