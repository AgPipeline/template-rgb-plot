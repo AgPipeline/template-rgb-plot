{
 "cells": [
  {
   "cell_type": "code",
   "execution_count": 36,
   "metadata": {},
   "outputs": [
    {
     "name": "stdout",
     "output_type": "stream",
     "text": [
      "0\n",
      "b'GDAL 3.0.4, released 2020/01/28\\n'\n"
     ]
    }
   ],
   "source": [
    "import subprocess\n",
    "# cmd0 = \"sudo add-apt-repository ppa:ubuntugis/ubuntugis-unstable\"\n",
    "# print(os.system(cmd0))\n",
    "# cmd1 = \"sudo apt-get update\"\n",
    "# print(os.system(cmd1))\n",
    "# cmd2 = \"sudo apt-get install libgdal-dev\"\n",
    "# print(os.system(cmd2))\n",
    "# cmd3 = \"virtualenv gdalenv\"\n",
    "# print(os.system(cmd3))\n",
    "# cmd4 = \"source gdal/bin/activate\"\n",
    "# print(os.system(cmd4))\n",
    "# cmd5 = \"pip install --no-install GDAL\"\n",
    "# print(os.system(cmd5))\n",
    "# cmd6 = \"python setup.py build_ext --include-dirs=/usr/include/gdal/\"\n",
    "# print(os.system(cmd6))\n",
    "# cmd7 = \"pip install gdal --global-option=build_ext --global-option='-I/usr/include/gdal/'\"\n",
    "# print(os.system(cmd7))\n",
    "\n",
    "# cmd0 = \"pip install GDAL==$(gdal-config --version) --global-option=build_ext --global-option='-I/usr/include/gdal' \"\n",
    "cmd0 = \"conda install gdal\"\n",
    "print(os.system(cmd0))\n",
    "print(subprocess.check_output([\"gdalinfo\", \"--version\"]))\n",
    "# from osgeo import gdal\n",
    "# import gdal"
   ]
  },
  {
   "cell_type": "markdown",
   "metadata": {},
   "source": [
    "#### Ensure that you are in the correct directory:"
   ]
  },
  {
   "cell_type": "code",
   "execution_count": 37,
   "metadata": {},
   "outputs": [],
   "source": [
    "if os.path.isfile(\"README.md\"):\n",
    "    os.chdir(\"./{{cookiecutter._project_name}}\")"
   ]
  },
  {
   "cell_type": "code",
   "execution_count": 38,
   "metadata": {},
   "outputs": [],
   "source": [
    "import json\n",
    "import numpy as np\n",
    "import os\n",
    "import urllib.request as urllib\n",
    "import zipfile\n",
    "import subprocess\n",
    "import sys\n",
    "\n",
    "from PIL import Image\n",
    "\n",
    "import algorithm_rgb"
   ]
  },
  {
   "cell_type": "markdown",
   "metadata": {},
   "source": [
    "#### Define the version number of your algorithm. Consider using [Semantic Versioning](https://semver.org/)"
   ]
  },
  {
   "cell_type": "code",
   "execution_count": 5,
   "metadata": {},
   "outputs": [
    {
     "name": "stdout",
     "output_type": "stream",
     "text": [
      "1.0\n",
      "goodbye\n",
      "goodbye\n"
     ]
    }
   ],
   "source": [
    "print(algorithm_rgb.VERSION)\n",
    "print(algorithm_rgb.hello)\n",
    "algorithm_rgb.hello = \"goodbye\"\n",
    "print(algorithm_rgb.hello)\n",
    "# os.system(\"nano algorithm_rgb.py\")"
   ]
  },
  {
   "cell_type": "markdown",
   "metadata": {},
   "source": [
    "#### Provide information on the creator and contributors of this algorithm"
   ]
  },
  {
   "cell_type": "code",
   "execution_count": null,
   "metadata": {},
   "outputs": [],
   "source": [
    "algorithm_rgb.ALGORITHM_AUTHOR = 'Unknown'\n",
    "algorithm_rgb.ALGORITHM_AUTHOR_EMAIL = 'author@example.com'\n",
    "algorithm_rgb.ALGORITHM_CONTRIBUTORS = [\"\"]"
   ]
  },
  {
   "cell_type": "markdown",
   "metadata": {},
   "source": [
    "#### Name and describe your algorithm"
   ]
  },
  {
   "cell_type": "code",
   "execution_count": null,
   "metadata": {},
   "outputs": [],
   "source": [
    "algorithm_rgb.ALGORITHM_NAME = 'default'\n",
    "algorithm_rgb.ALGORITHM_DESCRIPTION = ''"
   ]
  },
  {
   "cell_type": "markdown",
   "metadata": {},
   "source": [
    "#### Provide citation information for algorithm publication. This includes the citation author, the citation title, and the citation year"
   ]
  },
  {
   "cell_type": "code",
   "execution_count": null,
   "metadata": {},
   "outputs": [],
   "source": [
    "algorithm_rgb.CITATION_AUTHOR = ''\n",
    "algorithm_rgb.CITATION_TITLE = ''\n",
    "algorithm_rgb.CITATION_YEAR = ''"
   ]
  },
  {
   "cell_type": "markdown",
   "metadata": {},
   "source": [
    "#### Include the name(s) of the variable(s) used in the algorithm, separated by commas"
   ]
  },
  {
   "cell_type": "code",
   "execution_count": null,
   "metadata": {},
   "outputs": [],
   "source": [
    "algorithm_rgb.VARIABLE_NAMES = 'size of image channels'"
   ]
  },
  {
   "cell_type": "markdown",
   "metadata": {},
   "source": [
    "#### Include the units and labels of the variables, matching the order of VARIABLE_NAMES, also separated by commas. VARIABLE_LABELS is an optional field and can be left empty."
   ]
  },
  {
   "cell_type": "code",
   "execution_count": null,
   "metadata": {},
   "outputs": [],
   "source": [
    "algorithm_rgb.VARIABLE_UNITS = 'pixels'\n",
    "algorithm_rgb.VARIABLE_LABELS = ''"
   ]
  },
  {
   "cell_type": "markdown",
   "metadata": {},
   "source": [
    "#### Optional override for the generation of a BETYdb compatible csv file. Set to False to suppress the creation of a compatible file"
   ]
  },
  {
   "cell_type": "code",
   "execution_count": null,
   "metadata": {},
   "outputs": [],
   "source": [
    "algorithm_rgb.WRITE_BETYDB_CSV = True"
   ]
  },
  {
   "cell_type": "markdown",
   "metadata": {},
   "source": [
    "#### Optional override for the generation of a TERRA REF Geostreams compatible csv file. Set the variable to False to suppress the creation of a compatible file"
   ]
  },
  {
   "cell_type": "code",
   "execution_count": null,
   "metadata": {},
   "outputs": [],
   "source": [
    "algorithm_rgb.WRITE_GEOSTREAMS_CSV = True"
   ]
  },
  {
   "cell_type": "markdown",
   "metadata": {},
   "source": [
    "#### Change the url below to get images from a different source. This assumes that the image files are contained within a .zip file. The code below will add the sample_plot_images chosen to the system"
   ]
  },
  {
   "cell_type": "code",
   "execution_count": null,
   "metadata": {},
   "outputs": [],
   "source": [
    "url = \"https://de.cyverse.org/dl/d/4108BB75-AAA3-48E1-BBD4-E10B06CADF54/sample_plot_images.zip\"\n",
    "\n",
    "if os.path.isdir(\"sample_plot_images\"):\n",
    "    shutil.rmtree(\"sample_plot_images\")\n",
    "os.mkdir(\"sample_plot_images\")\n",
    "if not os.path.isfile(\"sample_plot_images.zip\"):\n",
    "    urllib.urlretrieve(url, \"sample_plot_images.zip\")\n",
    "zipfile.ZipFile(\"sample_plot_images.zip\", 'r').extractall(\"sample_plot_images\")\n",
    "os.remove(\"sample_plot_images.zip\")"
   ]
  },
  {
   "cell_type": "markdown",
   "metadata": {},
   "source": [
    "#### Define your calculate() function"
   ]
  },
  {
   "cell_type": "code",
   "execution_count": null,
   "metadata": {},
   "outputs": [],
   "source": [
    "def _calculate(pxarray: np.ndarray):\n",
    "    \"\"\"Calculates one or more values from plot-level RGB data\n",
    "    Arguments:\n",
    "        pxarray: Array of RGB data for a single plot\n",
    "    Return:\n",
    "        Returns one or more calculated values\n",
    "    \"\"\"\n",
    "    # ALGORITHM: replace the following lines with your algorithm\n",
    "    channel_size = pxarray[:, :, 1].size*5\n",
    "\n",
    "    # RETURN: replace the following return with your calculated values. Be sure to order them as defined in VARIABLE_NAMES above\n",
    "    return channel_size\n",
    "\n",
    "alg.calculate = _calculate"
   ]
  },
  {
   "cell_type": "markdown",
   "metadata": {},
   "source": [
    "#### Test the calculate() function on the sample plot images located in the sample_plot_images folder"
   ]
  },
  {
   "cell_type": "code",
   "execution_count": null,
   "metadata": {},
   "outputs": [],
   "source": [
    "for filename in os.listdir(\"sample_plot_images\"):\n",
    "    img = Image.open(\"sample_plot_images/\" + filename)\n",
    "    img_arr = np.array(img)\n",
    "    print(alg.calculate(img_arr))"
   ]
  },
  {
   "cell_type": "markdown",
   "metadata": {},
   "source": [
    "#### Next Generate your Dockerfile by running the generate.py script"
   ]
  },
  {
   "cell_type": "code",
   "execution_count": null,
   "metadata": {},
   "outputs": [],
   "source": [
    "cmd0 = \"python generate.py\"\n",
    "os.system(cmd0)"
   ]
  },
  {
   "cell_type": "code",
   "execution_count": null,
   "metadata": {},
   "outputs": [],
   "source": [
    "#### If there are leftover files from previous runs, delete them"
   ]
  },
  {
   "cell_type": "code",
   "execution_count": null,
   "metadata": {},
   "outputs": [],
   "source": [
    "filelist = [\"result.json\", \"rgb_plot.csv\", \"rgb_plot_betydb.csv\", \"rgb_plot_geo.csv\"]\n",
    "for file in filelist:\n",
    "    if os.path.isfile(file):\n",
    "        os.remove(file)"
   ]
  },
  {
   "cell_type": "markdown",
   "metadata": {},
   "source": [
    "#### Now build the dockerfile (Currently this will have a default project name and project version)"
   ]
  },
  {
   "cell_type": "code",
   "execution_count": null,
   "metadata": {},
   "outputs": [],
   "source": [
    "cmd = \"docker build -t \" + alg.ALGORITHM_NAME + \":\" + alg.VERSION + \" .\"\n",
    "os.system(cmd)"
   ]
  },
  {
   "cell_type": "markdown",
   "metadata": {},
   "source": [
    "#### Next run the dockerfile for testing"
   ]
  },
  {
   "cell_type": "code",
   "execution_count": null,
   "metadata": {},
   "outputs": [],
   "source": [
    "cmd = 'docker run --rm --mount \"src=`pwd`,target=/mnt,type=bind\" default:latest --working_space \"/mnt\"'\n",
    "for filename in os.listdir(\"sample_plot_images\"):\n",
    "    cmd += ' \"/mnt/sample_plot_images/' + filename + '\"'\n",
    "    \n",
    "os.system(cmd)"
   ]
  },
  {
   "cell_type": "markdown",
   "metadata": {},
   "source": [
    "#### Make sure that the correct files are generated and contain appropriate results"
   ]
  },
  {
   "cell_type": "code",
   "execution_count": null,
   "metadata": {},
   "outputs": [],
   "source": [
    "filelist = [\"result.json\", \"rgb_plot.csv\", \"rgb_plot_betydb.csv\", \"rgb_plot_geo.csv\"]\n",
    "for file in filelist:\n",
    "    assert os.path.isfile(file)\n",
    "    if (file == \"result.json\"):\n",
    "        result = json.load(open(file))[\"unknown\"]\n",
    "        assert result['version'] == algorithm_rgb.VERSION\n",
    "        assert result['traits'] == algorithm_rgb.VARIABLE_NAMES\n",
    "        assert result['units'] == algorithm_rgb.VARIABLE_UNITS\n",
    "        assert result['labels'] == algorithm_rgb.VARIABLE_LABELS\n",
    "        assert result['files_processed'] == str(len(os.listdir(\"sample_plot_images\")))\n",
    "        assert result['lines_written'] == str(len(os.listdir(\"sample_plot_images\")))\n",
    "        if (alg.WRITE_GEOSTREAMS_CSV == True):\n",
    "            assert result['wrote_geostreams'] == \"Yes\"\n",
    "        else:\n",
    "            assert result['wrote_geostreams'] == \"No\"\n",
    "        if (alg.WRITE_BETYDB_CSV == True):\n",
    "            assert result['wrote_betydb'] == \"Yes\"\n",
    "        else: \n",
    "            assert result['wrote_betydb'] == \"No\""
   ]
  },
  {
   "cell_type": "markdown",
   "metadata": {},
   "source": [
    "### The following test whether the fields and algorithm are in the correct format"
   ]
  }
 ],
 "metadata": {
  "kernelspec": {
   "display_name": "Python 3",
   "language": "python",
   "name": "python3"
  },
  "language_info": {
   "codemirror_mode": {
    "name": "ipython",
    "version": 3
   },
   "file_extension": ".py",
   "mimetype": "text/x-python",
   "name": "python",
   "nbconvert_exporter": "python",
   "pygments_lexer": "ipython3",
   "version": "3.8.4+"
  }
 },
 "nbformat": 4,
 "nbformat_minor": 4
}
