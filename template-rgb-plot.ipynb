{
 "cells": [
  {
   "cell_type": "code",
   "execution_count": 187,
   "metadata": {},
   "outputs": [
    {
     "name": "stdout",
     "output_type": "stream",
     "text": [
      "0\n",
      "b'GDAL 3.0.4, released 2020/01/28\\n'\n"
     ]
    }
   ],
   "source": [
    "import subprocess\n",
    "# cmd0 = \"sudo add-apt-repository ppa:ubuntugis/ubuntugis-unstable\"\n",
    "# print(os.system(cmd0))\n",
    "# cmd1 = \"sudo apt-get update\"\n",
    "# print(os.system(cmd1))\n",
    "# cmd2 = \"sudo apt-get install libgdal-dev\"\n",
    "# print(os.system(cmd2))\n",
    "# cmd3 = \"virtualenv gdalenv\"\n",
    "# print(os.system(cmd3))\n",
    "# cmd4 = \"source gdal/bin/activate\"\n",
    "# print(os.system(cmd4))\n",
    "# cmd5 = \"pip install --no-install GDAL\"\n",
    "# print(os.system(cmd5))\n",
    "# cmd6 = \"python setup.py build_ext --include-dirs=/usr/include/gdal/\"\n",
    "# print(os.system(cmd6))\n",
    "# cmd7 = \"pip install gdal --global-option=build_ext --global-option='-I/usr/include/gdal/'\"\n",
    "# print(os.system(cmd7))\n",
    "\n",
    "# cmd0 = \"pip install GDAL==$(gdal-config --version) --global-option=build_ext --global-option='-I/usr/include/gdal' \"\n",
    "cmd0 = \"conda install gdal\"\n",
    "print(os.system(cmd0))\n",
    "print(subprocess.check_output([\"gdalinfo\", \"--version\"]))\n",
    "# from osgeo import gdal\n",
    "# import gdal"
   ]
  },
  {
   "cell_type": "code",
   "execution_count": 188,
   "metadata": {},
   "outputs": [],
   "source": [
    "import numpy as np\n",
    "import os\n",
    "import shutil\n",
    "import urllib.request as urllib\n",
    "import zipfile\n",
    "import subprocess\n",
    "import sys\n",
    "\n",
    "from PIL import Image"
   ]
  },
  {
   "cell_type": "markdown",
   "metadata": {},
   "source": [
    "#### Define the version number of your algorithm. Consider using [Semantic Versioning](https://semver.org/)"
   ]
  },
  {
   "cell_type": "code",
   "execution_count": 189,
   "metadata": {},
   "outputs": [],
   "source": [
    "VERSION = 'latest'"
   ]
  },
  {
   "cell_type": "markdown",
   "metadata": {},
   "source": [
    "#### Provide information on the creator and contributors of this algorithm"
   ]
  },
  {
   "cell_type": "code",
   "execution_count": 190,
   "metadata": {},
   "outputs": [],
   "source": [
    "ALGORITHM_AUTHOR = 'Unknown'\n",
    "ALGORITHM_AUTHOR_EMAIL = 'author@example.com'\n",
    "ALGORITHM_CONTRIBUTORS = [\"\"]"
   ]
  },
  {
   "cell_type": "markdown",
   "metadata": {},
   "source": [
    "#### Name and describe your algorithm"
   ]
  },
  {
   "cell_type": "code",
   "execution_count": 191,
   "metadata": {},
   "outputs": [],
   "source": [
    "ALGORITHM_NAME = 'default'\n",
    "ALGORITHM_DESCRIPTION = ''"
   ]
  },
  {
   "cell_type": "markdown",
   "metadata": {},
   "source": [
    "#### Provide citation information for algorithm publication. This includes the citation author, the citation title, and the citation year"
   ]
  },
  {
   "cell_type": "code",
   "execution_count": 192,
   "metadata": {},
   "outputs": [],
   "source": [
    "CITATION_AUTHOR = ''\n",
    "CITATION_TITLE = ''\n",
    "CITATION_YEAR = ''"
   ]
  },
  {
   "cell_type": "markdown",
   "metadata": {},
   "source": [
    "#### Include the name(s) of the variable(s) used in the algorithm, separated by commas"
   ]
  },
  {
   "cell_type": "code",
   "execution_count": 193,
   "metadata": {},
   "outputs": [],
   "source": [
    "VARIABLE_NAMES = 'size of image channels'"
   ]
  },
  {
   "cell_type": "markdown",
   "metadata": {},
   "source": [
    "#### Include the units and labels of the variables, matching the order of VARIABLE_NAMES, also separated by commas. VARIABLE_LABELS is an optional field and can be left empty."
   ]
  },
  {
   "cell_type": "code",
   "execution_count": 194,
   "metadata": {},
   "outputs": [],
   "source": [
    "VARIABLE_UNITS = 'pixels'\n",
    "VARIABLE_LABELS = ''"
   ]
  },
  {
   "cell_type": "markdown",
   "metadata": {},
   "source": [
    "#### Optional override for the generation of a BETYdb compatible csv file. Set to False to suppress the creation of a compatible file"
   ]
  },
  {
   "cell_type": "code",
   "execution_count": 195,
   "metadata": {},
   "outputs": [],
   "source": [
    "WRITE_BETYDB_CSV = True"
   ]
  },
  {
   "cell_type": "markdown",
   "metadata": {},
   "source": [
    "#### Optional override for the generation of a TERRA REF Geostreams compatible csv file. Set the variable to False to suppress the creation of a compatible file"
   ]
  },
  {
   "cell_type": "code",
   "execution_count": 196,
   "metadata": {},
   "outputs": [],
   "source": [
    "WRITE_GEOSTREAMS_CSV = True"
   ]
  },
  {
   "cell_type": "markdown",
   "metadata": {},
   "source": [
    "#### Change the url below to get images from a different source. This assumes that the image files are contained within a .zip file. The code below will add the sample_plot_images chosen to the system"
   ]
  },
  {
   "cell_type": "code",
   "execution_count": 197,
   "metadata": {},
   "outputs": [],
   "source": [
    "url = \"https://de.cyverse.org/dl/d/4108BB75-AAA3-48E1-BBD4-E10B06CADF54/sample_plot_images.zip\"\n",
    "\n",
    "if os.path.isdir(\"sample_plot_images\"):\n",
    "    shutil.rmtree(\"sample_plot_images\")\n",
    "os.mkdir(\"sample_plot_images\")\n",
    "if not os.path.isfile(\"sample_plot_images.zip\"):\n",
    "    urllib.urlretrieve(url, \"sample_plot_images.zip\")\n",
    "zipfile.ZipFile(\"sample_plot_images.zip\", 'r').extractall(\"sample_plot_images\")\n",
    "os.remove(\"sample_plot_images.zip\")"
   ]
  },
  {
   "cell_type": "markdown",
   "metadata": {},
   "source": [
    "#### Define your calculate() function"
   ]
  },
  {
   "cell_type": "code",
   "execution_count": 198,
   "metadata": {},
   "outputs": [],
   "source": [
    "def calculate(pxarray: np.ndarray):\n",
    "    \"\"\"Calculates one or more values from plot-level RGB data\n",
    "    Arguments:\n",
    "        pxarray: Array of RGB data for a single plot\n",
    "    Return:\n",
    "        Returns one or more calculated values\n",
    "    \"\"\"\n",
    "    # ALGORITHM: replace the following lines with your algorithm\n",
    "    channel_size = pxarray[:, :, 1].size\n",
    "\n",
    "    # RETURN: replace the following return with your calculated values. Be sure to order them as defined in VARIABLE_NAMES above\n",
    "    return channel_size"
   ]
  },
  {
   "cell_type": "markdown",
   "metadata": {},
   "source": [
    "#### Test the calculate() function on the sample plot images located in the sample_plot_images folder"
   ]
  },
  {
   "cell_type": "code",
   "execution_count": 199,
   "metadata": {},
   "outputs": [
    {
     "name": "stdout",
     "output_type": "stream",
     "text": [
      "7000\n",
      "7000\n",
      "7000\n",
      "7000\n",
      "7000\n",
      "7000\n"
     ]
    }
   ],
   "source": [
    "for filename in os.listdir(\"sample_plot_images\"):\n",
    "    img = Image.open(\"sample_plot_images/\" + filename)\n",
    "    img_arr = np.array(img)\n",
    "    print(calculate(img_arr))"
   ]
  },
  {
   "cell_type": "markdown",
   "metadata": {},
   "source": [
    "#### Next Generate your Dockerfile by running the generate.py script"
   ]
  },
  {
   "cell_type": "code",
   "execution_count": 200,
   "metadata": {},
   "outputs": [],
   "source": [
    "cmd0 = \"python {{cookiecutter._project_name}}/generate.py\"\n",
    "os.system(cmd0)\n",
    "cmd1 = \"mv Dockerfile {{cookiecutter._project_name}}/Dockerfile\"\n",
    "os.system(cmd1)\n",
    "cmd2 = \"mv sample_plot_images {{cookiecutter._project_name}}/sample_plot_images\""
   ]
  },
  {
   "cell_type": "markdown",
   "metadata": {},
   "source": [
    "#### Now build the dockerfile (Currently this will have a default project name and project version)"
   ]
  },
  {
   "cell_type": "code",
   "execution_count": 201,
   "metadata": {},
   "outputs": [
    {
     "data": {
      "text/plain": [
       "256"
      ]
     },
     "execution_count": 201,
     "metadata": {},
     "output_type": "execute_result"
    }
   ],
   "source": [
    "cmd = \"docker build -t \" + ALGORITHM_NAME + \":\" + VERSION + \" .\"\n",
    "os.system(cmd)"
   ]
  },
  {
   "cell_type": "markdown",
   "metadata": {},
   "source": [
    "#### Next run the dockerfile for testing"
   ]
  },
  {
   "cell_type": "code",
   "execution_count": 202,
   "metadata": {},
   "outputs": [
    {
     "data": {
      "text/plain": [
       "0"
      ]
     },
     "execution_count": 202,
     "metadata": {},
     "output_type": "execute_result"
    }
   ],
   "source": [
    "cmd = 'docker run --rm --mount \"src=`pwd`,target=/mnt,type=bind\" default:latest --working_space \"/mnt/{{cookiecutter.project_name}}/sample_plot_images\"'\n",
    "os.system(cmd)"
   ]
  },
  {
   "cell_type": "markdown",
   "metadata": {},
   "source": [
    "### The following test whether the fields and algorithm are in the correct format"
   ]
  },
  {
   "cell_type": "code",
   "execution_count": 203,
   "metadata": {},
   "outputs": [],
   "source": [
    "def _get_variables_header_fields() -> str:\n",
    "    \"\"\"Returns a string representing the variable header fields\n",
    "    Return:\n",
    "        Returns a string representing the variables' header fields\n",
    "    \"\"\"\n",
    "    variables = VARIABLE_NAMES.split(',')\n",
    "    labels = VARIABLE_LABELS.split(',')\n",
    "    labels_len = len(labels)\n",
    "    units = VARIABLE_UNITS.split(',')\n",
    "    units_len = len(units)\n",
    "\n",
    "    if labels_len != len(variables):\n",
    "        sys.stderr.write(\"The number of defined labels doesn't match the number of defined variables\")\n",
    "        sys.stderr.write(\"  continuing processing\")\n",
    "    if units_len != len(variables):\n",
    "        sys.stderr.write(\"The number of defined units doesn't match the number of defined variables\")\n",
    "        sys.stderr.write(\"  continuing processing\")\n",
    "\n",
    "    headers = ''\n",
    "    for idx, variable_name in enumerate(variables):\n",
    "        variable_header = variable_name\n",
    "        if idx < labels_len:\n",
    "            variable_header += ' - %s' % labels[idx]\n",
    "        if idx < units_len:\n",
    "            variable_header += ' (%s)' % units[idx]\n",
    "        headers += variable_header + ','\n",
    "\n",
    "    return headers"
   ]
  },
  {
   "cell_type": "code",
   "execution_count": 204,
   "metadata": {},
   "outputs": [
    {
     "data": {
      "text/plain": [
       "'size of image channels -  (pixels),'"
      ]
     },
     "execution_count": 204,
     "metadata": {},
     "output_type": "execute_result"
    }
   ],
   "source": [
    "_get_variables_header_fields()"
   ]
  },
  {
   "cell_type": "code",
   "execution_count": 205,
   "metadata": {},
   "outputs": [],
   "source": [
    "def print_usage():\n",
    "    \"\"\"Displays information on how to use this script\n",
    "    \"\"\"\n",
    "    argc = len(sys.argv)\n",
    "    if argc:\n",
    "        our_name = os.path.basename(sys.argv[0])\n",
    "    else:\n",
    "        our_name = os.path.basename(__file__)\n",
    "    print(our_name + \" <folder>|<filename> ...\")\n",
    "    print(\"    folder:   path to folder containing images to process\")\n",
    "    print(\"    filename: path to an image file to process\")\n",
    "    print(\"\")\n",
    "    print(\"  One or more folders and/or filenames can be used\")\n",
    "    print(\"  Only files at the top level of a folder are processed\")"
   ]
  },
  {
   "cell_type": "code",
   "execution_count": 206,
   "metadata": {},
   "outputs": [
    {
     "name": "stdout",
     "output_type": "stream",
     "text": [
      "ipykernel_launcher.py <folder>|<filename> ...\n",
      "    folder:   path to folder containing images to process\n",
      "    filename: path to an image file to process\n",
      "\n",
      "  One or more folders and/or filenames can be used\n",
      "  Only files at the top level of a folder are processed\n"
     ]
    }
   ],
   "source": [
    "print_usage()"
   ]
  },
  {
   "cell_type": "code",
   "execution_count": 207,
   "metadata": {},
   "outputs": [],
   "source": [
    "def check_configuration():\n",
    "    \"\"\"Checks if the configuration is setup properly for testing\n",
    "    \"\"\"\n",
    "    if not VARIABLE_NAMES:\n",
    "        sys.stderr.write(\"Variable names configuration variable is not defined yet. Please define and try again\")\n",
    "        sys.stderr.write(\"    Set VARIBLE_NAMES variable with your variable names\")\n",
    "        return False\n",
    "\n",
    "    return True"
   ]
  },
  {
   "cell_type": "code",
   "execution_count": 208,
   "metadata": {},
   "outputs": [
    {
     "data": {
      "text/plain": [
       "True"
      ]
     },
     "execution_count": 208,
     "metadata": {},
     "output_type": "execute_result"
    }
   ],
   "source": [
    "check_configuration()"
   ]
  },
  {
   "cell_type": "code",
   "execution_count": 209,
   "metadata": {},
   "outputs": [],
   "source": [
    "def run_test(filename):\n",
    "    \"\"\"Runs the extractor code using pixels from the file\n",
    "    Args:\n",
    "        filename(str): Path to image file\n",
    "    Return:\n",
    "        The result of calling the extractor's calculate() method\n",
    "    Notes:\n",
    "        Assumes the path passed in is valid. An error is reported if\n",
    "        the file is not an image file.\n",
    "    \"\"\"\n",
    "    try:\n",
    "        open_file = gdal.Open(filename)\n",
    "        if open_file:\n",
    "            # Get the pixels and call the calculation\n",
    "            pix = np.array(open_file.ReadAsArray())\n",
    "            calc_val = calculate(np.rollaxis(pix, 0, 3))\n",
    "\n",
    "            # Check for unsupported types\n",
    "            if isinstance(calc_val, set):\n",
    "                raise RuntimeError(\"A 'set' type of data was returned and isn't supported.  Please use a list or a tuple instead\")\n",
    "\n",
    "            # Perform any type conversions to a printable string\n",
    "            if isinstance(calc_val, str):\n",
    "                print_val = calc_val\n",
    "            else:\n",
    "                # Check if the return is iterable and comma separate the values if it is\n",
    "                try:\n",
    "                    _ = iter(calc_val)\n",
    "                    print_val = \",\".join(map(str, calc_val))\n",
    "                except Exception:\n",
    "                    print_val = str(calc_val)\n",
    "\n",
    "            print(filename + \",\" + print_val)\n",
    "    except Exception as ex:\n",
    "        sys.stderr.write(\"Exception caught: \" + str(ex) + \"\\n\")\n",
    "        sys.stderr.write(\"    File: \" + filename + \"\\n\")"
   ]
  },
  {
   "cell_type": "code",
   "execution_count": 210,
   "metadata": {},
   "outputs": [
    {
     "name": "stderr",
     "output_type": "stream",
     "text": [
      "Exception caught: name 'gdal' is not defined\n",
      "    File: sample_plot_images/rgb_17_7_W.tif\n",
      "Exception caught: name 'gdal' is not defined\n",
      "    File: sample_plot_images/rgb_40_11_W.tif\n",
      "Exception caught: name 'gdal' is not defined\n",
      "    File: sample_plot_images/rgb_6_1_E.tif\n",
      "Exception caught: name 'gdal' is not defined\n",
      "    File: sample_plot_images/rgb_1_2_E.tif\n",
      "Exception caught: name 'gdal' is not defined\n",
      "    File: sample_plot_images/rgb_33_8_W.tif\n",
      "Exception caught: name 'gdal' is not defined\n",
      "    File: sample_plot_images/rgb_5_11_W.tif\n"
     ]
    }
   ],
   "source": [
    "for filename in os.listdir(\"sample_plot_images\"):\n",
    "    run_test(\"sample_plot_images/\" + filename)"
   ]
  }
 ],
 "metadata": {
  "kernelspec": {
   "display_name": "Python 3",
   "language": "python",
   "name": "python3"
  },
  "language_info": {
   "codemirror_mode": {
    "name": "ipython",
    "version": 3
   },
   "file_extension": ".py",
   "mimetype": "text/x-python",
   "name": "python",
   "nbconvert_exporter": "python",
   "pygments_lexer": "ipython3",
   "version": "3.8.4+"
  }
 },
 "nbformat": 4,
 "nbformat_minor": 4
}
